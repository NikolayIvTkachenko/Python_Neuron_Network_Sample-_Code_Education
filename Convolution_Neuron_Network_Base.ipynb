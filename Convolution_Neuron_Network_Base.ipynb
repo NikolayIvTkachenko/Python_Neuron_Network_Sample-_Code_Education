{
 "cells": [
  {
   "cell_type": "code",
   "execution_count": 1,
   "id": "2ff2c9b5",
   "metadata": {},
   "outputs": [
    {
     "name": "stderr",
     "output_type": "stream",
     "text": [
      "Using TensorFlow backend.\n"
     ]
    },
    {
     "name": "stdout",
     "output_type": "stream",
     "text": [
      "x_train shape: (60000, 28, 28, 1)\n",
      "60000 train samples\n",
      "10000 test samples\n",
      "Train on 60000 samples, validate on 10000 samples\n",
      "Epoch 1/12\n",
      "60000/60000 [==============================] - 50s 834us/step - loss: 0.2582 - accuracy: 0.9215 - val_loss: 0.0576 - val_accuracy: 0.9816\n",
      "Epoch 2/12\n",
      "60000/60000 [==============================] - 49s 820us/step - loss: 0.0892 - accuracy: 0.9738 - val_loss: 0.0418 - val_accuracy: 0.9867\n",
      "Epoch 3/12\n",
      "60000/60000 [==============================] - 48s 802us/step - loss: 0.0674 - accuracy: 0.9801 - val_loss: 0.0327 - val_accuracy: 0.9884\n",
      "Epoch 4/12\n",
      "60000/60000 [==============================] - 49s 825us/step - loss: 0.0562 - accuracy: 0.9840 - val_loss: 0.0309 - val_accuracy: 0.9897\n",
      "Epoch 5/12\n",
      "60000/60000 [==============================] - 49s 819us/step - loss: 0.0485 - accuracy: 0.9854 - val_loss: 0.0295 - val_accuracy: 0.9906\n",
      "Epoch 6/12\n",
      "60000/60000 [==============================] - 48s 794us/step - loss: 0.0431 - accuracy: 0.9867 - val_loss: 0.0302 - val_accuracy: 0.9908\n",
      "Epoch 7/12\n",
      "60000/60000 [==============================] - 47s 791us/step - loss: 0.0382 - accuracy: 0.9884 - val_loss: 0.0329 - val_accuracy: 0.9889\n",
      "Epoch 8/12\n",
      "60000/60000 [==============================] - 49s 809us/step - loss: 0.0337 - accuracy: 0.9899 - val_loss: 0.0259 - val_accuracy: 0.9917\n",
      "Epoch 9/12\n",
      "60000/60000 [==============================] - 47s 790us/step - loss: 0.0320 - accuracy: 0.9903 - val_loss: 0.0289 - val_accuracy: 0.9909\n",
      "Epoch 10/12\n",
      "60000/60000 [==============================] - 66s 1ms/step - loss: 0.0302 - accuracy: 0.9909 - val_loss: 0.0289 - val_accuracy: 0.9903\n",
      "Epoch 11/12\n",
      "60000/60000 [==============================] - 93s 2ms/step - loss: 0.0292 - accuracy: 0.9911 - val_loss: 0.0256 - val_accuracy: 0.9918\n",
      "Epoch 12/12\n",
      "60000/60000 [==============================] - 91s 2ms/step - loss: 0.0262 - accuracy: 0.9923 - val_loss: 0.0313 - val_accuracy: 0.9910\n",
      "Test loss: 0.03129585806296811\n",
      "Test accuracy: 0.9909999966621399\n"
     ]
    }
   ],
   "source": [
    "import keras\n",
    "from keras.datasets import mnist\n",
    "from keras.models import Sequential\n",
    "from keras.layers import Dense, Dropout, Flatten\n",
    "from keras.layers import Conv2D, MaxPooling2D\n",
    "from keras import backend as K\n",
    "\n",
    "batch_size = 128\n",
    "num_classes = 10\n",
    "epochs = 12\n",
    "\n",
    "# input image dimensions\n",
    "img_rows, img_cols = 28, 28\n",
    "\n",
    "# the data, split between train and test sets\n",
    "(x_train, y_train), (x_test, y_test) = mnist.load_data()\n",
    "\n",
    "if K.image_data_format() == 'channels_first':\n",
    "    x_train = x_train.reshape(x_train.shape[0], 1, img_rows, img_cols)\n",
    "    x_test = x_test.reshape(x_test.shape[0], 1, img_rows, img_cols)\n",
    "    input_shape = (1, img_rows, img_cols)\n",
    "else:\n",
    "    x_train = x_train.reshape(x_train.shape[0], img_rows, img_cols, 1)\n",
    "    x_test = x_test.reshape(x_test.shape[0], img_rows, img_cols, 1)\n",
    "    input_shape = (img_rows, img_cols, 1)\n",
    "\n",
    "x_train = x_train.astype('float32')\n",
    "x_test = x_test.astype('float32')\n",
    "x_train /= 255\n",
    "x_test /= 255\n",
    "print('x_train shape:', x_train.shape)\n",
    "print(x_train.shape[0], 'train samples')\n",
    "print(x_test.shape[0], 'test samples')\n",
    "\n",
    "# convert class vectors to binary class matrices\n",
    "y_train = keras.utils.to_categorical(y_train, num_classes)\n",
    "y_test = keras.utils.to_categorical(y_test, num_classes)\n",
    "\n",
    "model = Sequential()\n",
    "model.add(Conv2D(32, kernel_size=(3, 3),\n",
    "                 activation='relu',\n",
    "                 input_shape=input_shape))\n",
    "model.add(Conv2D(64, (3, 3), activation='relu'))\n",
    "model.add(MaxPooling2D(pool_size=(2, 2)))\n",
    "model.add(Dropout(0.25))\n",
    "model.add(Flatten())\n",
    "model.add(Dense(128, activation='relu'))\n",
    "model.add(Dropout(0.5))\n",
    "model.add(Dense(num_classes, activation='softmax'))\n",
    "\n",
    "model.compile(loss=keras.losses.categorical_crossentropy,\n",
    "              optimizer=keras.optimizers.Adadelta(),\n",
    "              metrics=['accuracy'])\n",
    "\n",
    "model.fit(x_train, y_train,\n",
    "          batch_size=batch_size,\n",
    "          epochs=epochs,\n",
    "          verbose=1,\n",
    "          validation_data=(x_test, y_test))\n",
    "score = model.evaluate(x_test, y_test, verbose=0)\n",
    "print('Test loss:', score[0])\n",
    "print('Test accuracy:', score[1])"
   ]
  },
  {
   "cell_type": "code",
   "execution_count": null,
   "id": "2fb127ca",
   "metadata": {},
   "outputs": [],
   "source": []
  }
 ],
 "metadata": {
  "kernelspec": {
   "display_name": "Python 3",
   "language": "python",
   "name": "python3"
  },
  "language_info": {
   "codemirror_mode": {
    "name": "ipython",
    "version": 3
   },
   "file_extension": ".py",
   "mimetype": "text/x-python",
   "name": "python",
   "nbconvert_exporter": "python",
   "pygments_lexer": "ipython3",
   "version": "3.6.13"
  }
 },
 "nbformat": 4,
 "nbformat_minor": 5
}
